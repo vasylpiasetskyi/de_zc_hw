{
 "nbformat": 4,
 "nbformat_minor": 0,
 "metadata": {
  "colab": {
   "provenance": []
  },
  "kernelspec": {
   "name": "python3",
   "language": "python",
   "display_name": "Python 3 (ipykernel)"
  },
  "language_info": {
   "name": "python"
  }
 },
 "cells": [
  {
   "cell_type": "markdown",
   "source": [
    "# **Homework**: Data talks club data engineering zoomcamp Data loading workshop\n",
    "\n",
    "Hello folks, let's practice what we learned - Loading data with the best practices of data engineering.\n",
    "\n",
    "Here are the exercises we will do\n",
    "\n",
    "\n"
   ],
   "metadata": {
    "id": "mrTFv5nPClXh"
   }
  },
  {
   "cell_type": "markdown",
   "source": [
    "# 1. Use a generator\n",
    "\n",
    "Remember the concept of generator? Let's practice using them to futher our understanding of how they work.\n",
    "\n",
    "Let's define a generator and then run it as practice.\n",
    "\n",
    "**Answer the following questions:**\n",
    "\n",
    "- **Question 1: What is the sum of the outputs of the generator for limit = 5?**\n",
    "- **Question 2: What is the 13th number yielded**\n",
    "\n",
    "I suggest practicing these questions without GPT as the purpose is to further your learning."
   ],
   "metadata": {
    "id": "wLF4iXf-NR7t"
   }
  },
  {
   "cell_type": "code",
   "source": [
    "def square_root_generator(limit):\n",
    "    n = 1\n",
    "    while n <= limit:\n",
    "        yield n ** 0.5\n",
    "        n += 1\n",
    "\n",
    "# Example usage:\n",
    "limit = 5\n",
    "generator = square_root_generator(limit)\n",
    "\n",
    "# for sqrt_value in generator:\n",
    "#     print(sqrt_value)\n",
    "\n",
    "sum_5 = sum([x for x in generator])\n",
    "sum_5\n",
    "\n",
    "limit = 13\n",
    "generator = square_root_generator(limit)\n",
    "for sqrt_value in generator:\n",
    "    print(sqrt_value)"
   ],
   "metadata": {
    "colab": {
     "base_uri": "https://localhost:8080/"
    },
    "id": "wLng-bDJN4jf",
    "outputId": "547683cb-5f56-4815-a903-d0d9578eb1f9",
    "ExecuteTime": {
     "end_time": "2024-02-05T17:18:28.095173Z",
     "start_time": "2024-02-05T17:18:28.060665Z"
    }
   },
   "execution_count": 8,
   "outputs": [
    {
     "name": "stdout",
     "output_type": "stream",
     "text": [
      "1.0\n",
      "1.4142135623730951\n",
      "1.7320508075688772\n",
      "2.0\n",
      "2.23606797749979\n",
      "2.449489742783178\n",
      "2.6457513110645907\n",
      "2.8284271247461903\n",
      "3.0\n",
      "3.1622776601683795\n",
      "3.3166247903554\n",
      "3.4641016151377544\n",
      "3.605551275463989\n"
     ]
    }
   ]
  },
  {
   "cell_type": "markdown",
   "source": [],
   "metadata": {
    "id": "xbe3q55zN43j"
   }
  },
  {
   "cell_type": "markdown",
   "source": [
    "# 2. Append a generator to a table with existing data\n",
    "\n",
    "\n",
    "Below you have 2 generators. You will be tasked to load them to duckdb and answer some questions from the data\n",
    "\n",
    "1. Load the first generator and calculate the sum of ages of all people. Make sure to only load it once.\n",
    "2. Append the second generator to the same table as the first.\n",
    "3. **After correctly appending the data, calculate the sum of all ages of people.**\n",
    "\n",
    "\n"
   ],
   "metadata": {
    "id": "vjWhILzGJMpK"
   }
  },
  {
   "cell_type": "code",
   "execution_count": 27,
   "metadata": {
    "colab": {
     "base_uri": "https://localhost:8080/"
    },
    "id": "2MoaQcdLBEk6",
    "outputId": "d2b93dc1-d83f-44ea-aeff-fdf51d75f7aa",
    "ExecuteTime": {
     "end_time": "2024-02-05T17:49:01.804329Z",
     "start_time": "2024-02-05T17:49:00.925779Z"
    }
   },
   "outputs": [
    {
     "name": "stdout",
     "output_type": "stream",
     "text": [
      "Loaded tables: \n"
     ]
    },
    {
     "data": {
      "text/plain": "┌─────────────────────┐\n│        name         │\n│       varchar       │\n├─────────────────────┤\n│ _dlt_loads          │\n│ _dlt_pipeline_state │\n│ _dlt_version        │\n│ people              │\n└─────────────────────┘"
     },
     "metadata": {},
     "output_type": "display_data"
    },
    {
     "name": "stdout",
     "output_type": "stream",
     "text": [
      "\n",
      "\n",
      "\n",
      " people table below:\n"
     ]
    },
    {
     "data": {
      "text/plain": "   id      name  age    city       _dlt_load_id         _dlt_id occupation\n0   1  Person_1   26  City_A  1707155341.059961  cM0tTk8oLG0e1w       None\n1   2  Person_2   27  City_A  1707155341.059961  J98SPz3UKJ2+ag       None\n2   3  Person_3   28  City_A  1707155341.059961  oEmc0cf8wSkcnQ       None\n3   4  Person_4   29  City_A  1707155341.059961  C8GKeW1HtbLgnA       None\n4   5  Person_5   30  City_A  1707155341.059961  dDJpI2OrvGbu/A       None",
      "text/html": "<div>\n<style scoped>\n    .dataframe tbody tr th:only-of-type {\n        vertical-align: middle;\n    }\n\n    .dataframe tbody tr th {\n        vertical-align: top;\n    }\n\n    .dataframe thead th {\n        text-align: right;\n    }\n</style>\n<table border=\"1\" class=\"dataframe\">\n  <thead>\n    <tr style=\"text-align: right;\">\n      <th></th>\n      <th>id</th>\n      <th>name</th>\n      <th>age</th>\n      <th>city</th>\n      <th>_dlt_load_id</th>\n      <th>_dlt_id</th>\n      <th>occupation</th>\n    </tr>\n  </thead>\n  <tbody>\n    <tr>\n      <th>0</th>\n      <td>1</td>\n      <td>Person_1</td>\n      <td>26</td>\n      <td>City_A</td>\n      <td>1707155341.059961</td>\n      <td>cM0tTk8oLG0e1w</td>\n      <td>None</td>\n    </tr>\n    <tr>\n      <th>1</th>\n      <td>2</td>\n      <td>Person_2</td>\n      <td>27</td>\n      <td>City_A</td>\n      <td>1707155341.059961</td>\n      <td>J98SPz3UKJ2+ag</td>\n      <td>None</td>\n    </tr>\n    <tr>\n      <th>2</th>\n      <td>3</td>\n      <td>Person_3</td>\n      <td>28</td>\n      <td>City_A</td>\n      <td>1707155341.059961</td>\n      <td>oEmc0cf8wSkcnQ</td>\n      <td>None</td>\n    </tr>\n    <tr>\n      <th>3</th>\n      <td>4</td>\n      <td>Person_4</td>\n      <td>29</td>\n      <td>City_A</td>\n      <td>1707155341.059961</td>\n      <td>C8GKeW1HtbLgnA</td>\n      <td>None</td>\n    </tr>\n    <tr>\n      <th>4</th>\n      <td>5</td>\n      <td>Person_5</td>\n      <td>30</td>\n      <td>City_A</td>\n      <td>1707155341.059961</td>\n      <td>dDJpI2OrvGbu/A</td>\n      <td>None</td>\n    </tr>\n  </tbody>\n</table>\n</div>"
     },
     "metadata": {},
     "output_type": "display_data"
    }
   ],
   "source": [
    "import dlt\n",
    "import duckdb\n",
    "\n",
    "def people_1():\n",
    "    for i in range(1, 6):\n",
    "        yield {\"ID\": i, \"Name\": f\"Person_{i}\", \"Age\": 25 + i, \"City\": \"City_A\"}\n",
    "\n",
    "\n",
    "generators_pipeline = dlt.pipeline(destination='duckdb', dataset_name='generators')\n",
    "info = generators_pipeline.run(people_1(),\n",
    "\t\t\t\t\t\t\t\t\t\ttable_name=\"people\",\n",
    "\t\t\t\t\t\t\t\t\t\twrite_disposition=\"replace\")\n",
    "\n",
    "\n",
    "conn = duckdb.connect(f\"{generators_pipeline.pipeline_name}.duckdb\")\n",
    "\n",
    "# let's see the tables\n",
    "conn.sql(f\"SET search_path = '{generators_pipeline.dataset_name}'\")\n",
    "print('Loaded tables: ')\n",
    "display(conn.sql(\"show tables\"))\n",
    "\n",
    "# and the data\n",
    "\n",
    "print(\"\\n\\n\\n people table below:\")\n",
    "\n",
    "peoples = conn.sql(\"SELECT * FROM people\").df()\n",
    "display(peoples)\n",
    "\n",
    "\n",
    "\n"
   ]
  },
  {
   "cell_type": "code",
   "execution_count": 28,
   "outputs": [
    {
     "data": {
      "text/plain": "140"
     },
     "execution_count": 28,
     "metadata": {},
     "output_type": "execute_result"
    }
   ],
   "source": [
    "sum_peoples = peoples[\"age\"].sum()\n",
    "sum_peoples"
   ],
   "metadata": {
    "collapsed": false,
    "ExecuteTime": {
     "end_time": "2024-02-05T17:49:07.429054Z",
     "start_time": "2024-02-05T17:49:07.368519Z"
    }
   }
  },
  {
   "cell_type": "code",
   "execution_count": 29,
   "outputs": [
    {
     "name": "stdout",
     "output_type": "stream",
     "text": [
      "Loaded tables: \n"
     ]
    },
    {
     "data": {
      "text/plain": "┌─────────────────────┐\n│        name         │\n│       varchar       │\n├─────────────────────┤\n│ _dlt_loads          │\n│ _dlt_pipeline_state │\n│ _dlt_version        │\n│ people              │\n└─────────────────────┘"
     },
     "metadata": {},
     "output_type": "display_data"
    },
    {
     "name": "stdout",
     "output_type": "stream",
     "text": [
      "\n",
      "\n",
      "\n",
      " people table below:\n"
     ]
    },
    {
     "data": {
      "text/plain": "    id      name  age    city        _dlt_load_id         _dlt_id occupation\n0    1  Person_1   26  City_A   1707155341.059961  cM0tTk8oLG0e1w       None\n1    2  Person_2   27  City_A   1707155341.059961  J98SPz3UKJ2+ag       None\n2    3  Person_3   28  City_A   1707155341.059961  oEmc0cf8wSkcnQ       None\n3    4  Person_4   29  City_A   1707155341.059961  C8GKeW1HtbLgnA       None\n4    5  Person_5   30  City_A   1707155341.059961  dDJpI2OrvGbu/A       None\n5    3  Person_3   33  City_B  1707155348.9274082  V6eOGqOCz4e77w      Job_3\n6    4  Person_4   34  City_B  1707155348.9274082  gkzLtP2KNgHt7Q      Job_4\n7    5  Person_5   35  City_B  1707155348.9274082  k97WtaTA7yWABw      Job_5\n8    6  Person_6   36  City_B  1707155348.9274082  Ls15ZCaP5+Q4Wg      Job_6\n9    7  Person_7   37  City_B  1707155348.9274082  996YefaDGrG3xQ      Job_7\n10   8  Person_8   38  City_B  1707155348.9274082  CllREbIA3bMGqA      Job_8",
      "text/html": "<div>\n<style scoped>\n    .dataframe tbody tr th:only-of-type {\n        vertical-align: middle;\n    }\n\n    .dataframe tbody tr th {\n        vertical-align: top;\n    }\n\n    .dataframe thead th {\n        text-align: right;\n    }\n</style>\n<table border=\"1\" class=\"dataframe\">\n  <thead>\n    <tr style=\"text-align: right;\">\n      <th></th>\n      <th>id</th>\n      <th>name</th>\n      <th>age</th>\n      <th>city</th>\n      <th>_dlt_load_id</th>\n      <th>_dlt_id</th>\n      <th>occupation</th>\n    </tr>\n  </thead>\n  <tbody>\n    <tr>\n      <th>0</th>\n      <td>1</td>\n      <td>Person_1</td>\n      <td>26</td>\n      <td>City_A</td>\n      <td>1707155341.059961</td>\n      <td>cM0tTk8oLG0e1w</td>\n      <td>None</td>\n    </tr>\n    <tr>\n      <th>1</th>\n      <td>2</td>\n      <td>Person_2</td>\n      <td>27</td>\n      <td>City_A</td>\n      <td>1707155341.059961</td>\n      <td>J98SPz3UKJ2+ag</td>\n      <td>None</td>\n    </tr>\n    <tr>\n      <th>2</th>\n      <td>3</td>\n      <td>Person_3</td>\n      <td>28</td>\n      <td>City_A</td>\n      <td>1707155341.059961</td>\n      <td>oEmc0cf8wSkcnQ</td>\n      <td>None</td>\n    </tr>\n    <tr>\n      <th>3</th>\n      <td>4</td>\n      <td>Person_4</td>\n      <td>29</td>\n      <td>City_A</td>\n      <td>1707155341.059961</td>\n      <td>C8GKeW1HtbLgnA</td>\n      <td>None</td>\n    </tr>\n    <tr>\n      <th>4</th>\n      <td>5</td>\n      <td>Person_5</td>\n      <td>30</td>\n      <td>City_A</td>\n      <td>1707155341.059961</td>\n      <td>dDJpI2OrvGbu/A</td>\n      <td>None</td>\n    </tr>\n    <tr>\n      <th>5</th>\n      <td>3</td>\n      <td>Person_3</td>\n      <td>33</td>\n      <td>City_B</td>\n      <td>1707155348.9274082</td>\n      <td>V6eOGqOCz4e77w</td>\n      <td>Job_3</td>\n    </tr>\n    <tr>\n      <th>6</th>\n      <td>4</td>\n      <td>Person_4</td>\n      <td>34</td>\n      <td>City_B</td>\n      <td>1707155348.9274082</td>\n      <td>gkzLtP2KNgHt7Q</td>\n      <td>Job_4</td>\n    </tr>\n    <tr>\n      <th>7</th>\n      <td>5</td>\n      <td>Person_5</td>\n      <td>35</td>\n      <td>City_B</td>\n      <td>1707155348.9274082</td>\n      <td>k97WtaTA7yWABw</td>\n      <td>Job_5</td>\n    </tr>\n    <tr>\n      <th>8</th>\n      <td>6</td>\n      <td>Person_6</td>\n      <td>36</td>\n      <td>City_B</td>\n      <td>1707155348.9274082</td>\n      <td>Ls15ZCaP5+Q4Wg</td>\n      <td>Job_6</td>\n    </tr>\n    <tr>\n      <th>9</th>\n      <td>7</td>\n      <td>Person_7</td>\n      <td>37</td>\n      <td>City_B</td>\n      <td>1707155348.9274082</td>\n      <td>996YefaDGrG3xQ</td>\n      <td>Job_7</td>\n    </tr>\n    <tr>\n      <th>10</th>\n      <td>8</td>\n      <td>Person_8</td>\n      <td>38</td>\n      <td>City_B</td>\n      <td>1707155348.9274082</td>\n      <td>CllREbIA3bMGqA</td>\n      <td>Job_8</td>\n    </tr>\n  </tbody>\n</table>\n</div>"
     },
     "metadata": {},
     "output_type": "display_data"
    }
   ],
   "source": [
    "def people_2():\n",
    "    for i in range(3, 9):\n",
    "        yield {\"ID\": i, \"Name\": f\"Person_{i}\", \"Age\": 30 + i, \"City\": \"City_B\", \"Occupation\": f\"Job_{i}\"}\n",
    "\n",
    "\n",
    "info_2 = generators_pipeline.run(people_2(),\n",
    "\t\t\t\t\t\t\t\t\t\ttable_name=\"people\",\n",
    "\t\t\t\t\t\t\t\t\t\twrite_disposition=\"append\")\n",
    "\n",
    "\n",
    "conn = duckdb.connect(f\"{generators_pipeline.pipeline_name}.duckdb\")\n",
    "\n",
    "# let's see the tables\n",
    "conn.sql(f\"SET search_path = '{generators_pipeline.dataset_name}'\")\n",
    "print('Loaded tables: ')\n",
    "display(conn.sql(\"show tables\"))\n",
    "\n",
    "# and the data\n",
    "\n",
    "print(\"\\n\\n\\n people table below:\")\n",
    "\n",
    "peoples = conn.sql(\"SELECT * FROM people\").df()\n",
    "display(peoples)\n"
   ],
   "metadata": {
    "collapsed": false,
    "ExecuteTime": {
     "end_time": "2024-02-05T17:49:09.633787Z",
     "start_time": "2024-02-05T17:49:08.833834Z"
    }
   }
  },
  {
   "cell_type": "code",
   "execution_count": 30,
   "outputs": [
    {
     "data": {
      "text/plain": "353"
     },
     "execution_count": 30,
     "metadata": {},
     "output_type": "execute_result"
    }
   ],
   "source": [
    "sum_peoples = peoples[\"age\"].sum()\n",
    "sum_peoples"
   ],
   "metadata": {
    "collapsed": false,
    "ExecuteTime": {
     "end_time": "2024-02-05T17:49:16.654097Z",
     "start_time": "2024-02-05T17:49:16.579404Z"
    }
   }
  },
  {
   "cell_type": "markdown",
   "source": [
    "# 3. Merge a generator\n",
    "\n",
    "Re-use the generators from Exercise 2.\n",
    "\n",
    "A table's primary key needs to be created from the start, so load your data to a new table with primary key ID.\n",
    "\n",
    "Load your first generator first, and then load the second one with merge. Since they have overlapping IDs, some of the records from the first load should be replaced by the ones from the second load.\n",
    "\n",
    "After loading, you should have a total of 8 records, and ID 3 should have age 33.\n",
    "\n",
    "Question: **Calculate the sum of ages of all the people loaded as described above.**\n"
   ],
   "metadata": {
    "id": "pY4cFAWOSwN1"
   }
  },
  {
   "cell_type": "code",
   "execution_count": 36,
   "outputs": [
    {
     "name": "stdout",
     "output_type": "stream",
     "text": [
      "Loaded tables: \n"
     ]
    },
    {
     "data": {
      "text/plain": "┌─────────────────────┐\n│        name         │\n│       varchar       │\n├─────────────────────┤\n│ _dlt_loads          │\n│ _dlt_pipeline_state │\n│ _dlt_version        │\n│ people              │\n│ people_2            │\n└─────────────────────┘"
     },
     "metadata": {},
     "output_type": "display_data"
    },
    {
     "name": "stdout",
     "output_type": "stream",
     "text": [
      "\n",
      "\n",
      "\n",
      " people table below:\n"
     ]
    },
    {
     "data": {
      "text/plain": "   id      name  age    city      _dlt_load_id         _dlt_id occupation\n0   1  Person_1   26  City_A  1707155680.51563  RtYucTD74d+BMQ       None\n1   2  Person_2   27  City_A  1707155680.51563  yrF3W8Oiz8mupQ       None\n2   3  Person_3   28  City_A  1707155680.51563  g6ZrlsjneuFkcw       None\n3   4  Person_4   29  City_A  1707155680.51563  SWuRYpPDkK+Y2w       None\n4   5  Person_5   30  City_A  1707155680.51563  hm7IMPqNGpl7WQ       None",
      "text/html": "<div>\n<style scoped>\n    .dataframe tbody tr th:only-of-type {\n        vertical-align: middle;\n    }\n\n    .dataframe tbody tr th {\n        vertical-align: top;\n    }\n\n    .dataframe thead th {\n        text-align: right;\n    }\n</style>\n<table border=\"1\" class=\"dataframe\">\n  <thead>\n    <tr style=\"text-align: right;\">\n      <th></th>\n      <th>id</th>\n      <th>name</th>\n      <th>age</th>\n      <th>city</th>\n      <th>_dlt_load_id</th>\n      <th>_dlt_id</th>\n      <th>occupation</th>\n    </tr>\n  </thead>\n  <tbody>\n    <tr>\n      <th>0</th>\n      <td>1</td>\n      <td>Person_1</td>\n      <td>26</td>\n      <td>City_A</td>\n      <td>1707155680.51563</td>\n      <td>RtYucTD74d+BMQ</td>\n      <td>None</td>\n    </tr>\n    <tr>\n      <th>1</th>\n      <td>2</td>\n      <td>Person_2</td>\n      <td>27</td>\n      <td>City_A</td>\n      <td>1707155680.51563</td>\n      <td>yrF3W8Oiz8mupQ</td>\n      <td>None</td>\n    </tr>\n    <tr>\n      <th>2</th>\n      <td>3</td>\n      <td>Person_3</td>\n      <td>28</td>\n      <td>City_A</td>\n      <td>1707155680.51563</td>\n      <td>g6ZrlsjneuFkcw</td>\n      <td>None</td>\n    </tr>\n    <tr>\n      <th>3</th>\n      <td>4</td>\n      <td>Person_4</td>\n      <td>29</td>\n      <td>City_A</td>\n      <td>1707155680.51563</td>\n      <td>SWuRYpPDkK+Y2w</td>\n      <td>None</td>\n    </tr>\n    <tr>\n      <th>4</th>\n      <td>5</td>\n      <td>Person_5</td>\n      <td>30</td>\n      <td>City_A</td>\n      <td>1707155680.51563</td>\n      <td>hm7IMPqNGpl7WQ</td>\n      <td>None</td>\n    </tr>\n  </tbody>\n</table>\n</div>"
     },
     "metadata": {},
     "output_type": "display_data"
    }
   ],
   "source": [
    "generators_pipeline = dlt.pipeline(destination='duckdb', dataset_name='generators')\n",
    "info = generators_pipeline.run(people_1(),\n",
    "\t\t\t\t\t\t\t\t\t\ttable_name=\"people_2\",\n",
    "\t\t\t\t\t\t\t\t\t\twrite_disposition=\"merge\")\n",
    "\n",
    "\n",
    "conn = duckdb.connect(f\"{generators_pipeline.pipeline_name}.duckdb\")\n",
    "\n",
    "# let's see the tables\n",
    "conn.sql(f\"SET search_path = '{generators_pipeline.dataset_name}'\")\n",
    "print('Loaded tables: ')\n",
    "display(conn.sql(\"show tables\"))\n",
    "\n",
    "# and the data\n",
    "\n",
    "print(\"\\n\\n\\n people table below:\")\n",
    "\n",
    "peoples = conn.sql(\"SELECT * FROM people_2\").df()\n",
    "display(peoples)"
   ],
   "metadata": {
    "collapsed": false,
    "ExecuteTime": {
     "end_time": "2024-02-05T17:54:41.548401Z",
     "start_time": "2024-02-05T17:54:40.408126Z"
    }
   }
  },
  {
   "cell_type": "code",
   "execution_count": 37,
   "outputs": [
    {
     "name": "stdout",
     "output_type": "stream",
     "text": [
      "Loaded tables: \n"
     ]
    },
    {
     "data": {
      "text/plain": "┌─────────────────────┐\n│        name         │\n│       varchar       │\n├─────────────────────┤\n│ _dlt_loads          │\n│ _dlt_pipeline_state │\n│ _dlt_version        │\n│ people              │\n│ people_2            │\n└─────────────────────┘"
     },
     "metadata": {},
     "output_type": "display_data"
    },
    {
     "name": "stdout",
     "output_type": "stream",
     "text": [
      "\n",
      "\n",
      "\n",
      " people table below:\n"
     ]
    },
    {
     "data": {
      "text/plain": "   id      name  age    city        _dlt_load_id         _dlt_id occupation\n0   3  Person_3   33  City_B  1707155692.7843509  m6a1j9LPA69YgA      Job_3\n1   4  Person_4   34  City_B  1707155692.7843509  55jfAYdA4eSBJQ      Job_4\n2   5  Person_5   35  City_B  1707155692.7843509  AL1c3A85uTpKRQ      Job_5\n3   6  Person_6   36  City_B  1707155692.7843509  RiJK03z9Z9J1Xw      Job_6\n4   7  Person_7   37  City_B  1707155692.7843509  VvG38o1yFrzRUw      Job_7\n5   8  Person_8   38  City_B  1707155692.7843509  NZoqIKNJblwK6g      Job_8",
      "text/html": "<div>\n<style scoped>\n    .dataframe tbody tr th:only-of-type {\n        vertical-align: middle;\n    }\n\n    .dataframe tbody tr th {\n        vertical-align: top;\n    }\n\n    .dataframe thead th {\n        text-align: right;\n    }\n</style>\n<table border=\"1\" class=\"dataframe\">\n  <thead>\n    <tr style=\"text-align: right;\">\n      <th></th>\n      <th>id</th>\n      <th>name</th>\n      <th>age</th>\n      <th>city</th>\n      <th>_dlt_load_id</th>\n      <th>_dlt_id</th>\n      <th>occupation</th>\n    </tr>\n  </thead>\n  <tbody>\n    <tr>\n      <th>0</th>\n      <td>3</td>\n      <td>Person_3</td>\n      <td>33</td>\n      <td>City_B</td>\n      <td>1707155692.7843509</td>\n      <td>m6a1j9LPA69YgA</td>\n      <td>Job_3</td>\n    </tr>\n    <tr>\n      <th>1</th>\n      <td>4</td>\n      <td>Person_4</td>\n      <td>34</td>\n      <td>City_B</td>\n      <td>1707155692.7843509</td>\n      <td>55jfAYdA4eSBJQ</td>\n      <td>Job_4</td>\n    </tr>\n    <tr>\n      <th>2</th>\n      <td>5</td>\n      <td>Person_5</td>\n      <td>35</td>\n      <td>City_B</td>\n      <td>1707155692.7843509</td>\n      <td>AL1c3A85uTpKRQ</td>\n      <td>Job_5</td>\n    </tr>\n    <tr>\n      <th>3</th>\n      <td>6</td>\n      <td>Person_6</td>\n      <td>36</td>\n      <td>City_B</td>\n      <td>1707155692.7843509</td>\n      <td>RiJK03z9Z9J1Xw</td>\n      <td>Job_6</td>\n    </tr>\n    <tr>\n      <th>4</th>\n      <td>7</td>\n      <td>Person_7</td>\n      <td>37</td>\n      <td>City_B</td>\n      <td>1707155692.7843509</td>\n      <td>VvG38o1yFrzRUw</td>\n      <td>Job_7</td>\n    </tr>\n    <tr>\n      <th>5</th>\n      <td>8</td>\n      <td>Person_8</td>\n      <td>38</td>\n      <td>City_B</td>\n      <td>1707155692.7843509</td>\n      <td>NZoqIKNJblwK6g</td>\n      <td>Job_8</td>\n    </tr>\n  </tbody>\n</table>\n</div>"
     },
     "metadata": {},
     "output_type": "display_data"
    }
   ],
   "source": [
    "info_2b = generators_pipeline.run(people_2(),\n",
    "\t\t\t\t\t\t\t\t\t\ttable_name=\"people_2\",\n",
    "\t\t\t\t\t\t\t\t\t\twrite_disposition=\"replace\")\n",
    "\n",
    "\n",
    "conn = duckdb.connect(f\"{generators_pipeline.pipeline_name}.duckdb\")\n",
    "\n",
    "# let's see the tables\n",
    "conn.sql(f\"SET search_path = '{generators_pipeline.dataset_name}'\")\n",
    "print('Loaded tables: ')\n",
    "display(conn.sql(\"show tables\"))\n",
    "\n",
    "# and the data\n",
    "\n",
    "print(\"\\n\\n\\n people table below:\")\n",
    "\n",
    "peoples = conn.sql(\"SELECT * FROM people_2\").df()\n",
    "display(peoples)"
   ],
   "metadata": {
    "collapsed": false,
    "ExecuteTime": {
     "end_time": "2024-02-05T17:54:53.593235Z",
     "start_time": "2024-02-05T17:54:52.734733Z"
    }
   }
  },
  {
   "cell_type": "code",
   "execution_count": 38,
   "outputs": [
    {
     "data": {
      "text/plain": "213"
     },
     "execution_count": 38,
     "metadata": {},
     "output_type": "execute_result"
    }
   ],
   "source": [
    "sum_peoples_2 = peoples[\"age\"].sum()\n",
    "sum_peoples_2"
   ],
   "metadata": {
    "collapsed": false,
    "ExecuteTime": {
     "end_time": "2024-02-05T17:55:25.227246Z",
     "start_time": "2024-02-05T17:55:25.105706Z"
    }
   }
  },
  {
   "cell_type": "markdown",
   "source": [
    "# Solution: First make sure that the following modules are installed:"
   ],
   "metadata": {
    "id": "kKB2GTB9oVjr"
   }
  },
  {
   "cell_type": "code",
   "source": [
    "#Install the dependencies\n",
    "%%capture\n",
    "!pip install dlt[duckdb]"
   ],
   "metadata": {
    "id": "xTVvtyqrfVNq"
   },
   "execution_count": null,
   "outputs": []
  },
  {
   "cell_type": "code",
   "source": [
    "# to do: homework :)"
   ],
   "metadata": {
    "id": "a2-PRBAkGC2K"
   },
   "execution_count": null,
   "outputs": []
  },
  {
   "cell_type": "markdown",
   "source": [
    "Questions? difficulties? We are here to help.\n",
    "- DTC data engineering course channel: https://datatalks-club.slack.com/archives/C01FABYF2RG\n",
    "- dlt's DTC cohort channel: https://dlthub-community.slack.com/archives/C06GAEX2VNX"
   ],
   "metadata": {
    "id": "PoTJu4kbGG0z"
   }
  }
 ]
}
